{
 "cells": [
  {
   "cell_type": "markdown",
   "metadata": {},
   "source": [
    "<table>\n",
    "   <tr>\n",
    "     <td><img src=\"./images/logo-CINES.png\" alt=\"Note: In order for images to show up in this jupyter notebook you need to select File => Trusted Notebook\" width=\"400 px\" align=\"left\"></td>\n",
    "    <td>  </td>\n",
    "    <td><img src=\"./images/logo-IBM.png\" alt=\"Note: In order for images to show up in this jupyter notebook you need to select File => Trusted Notebook\" width=\"400 px\" align=\"left\"></td>\n",
    "   </tr>\n",
    "</table>\n",
    "\n",
    "## <center>Exercices par rapport aux exposés précédents</center>\n",
    "#### <center>(et se faire la main avec Python et Jupiter dans le contexte de ce qu'on a vu précédemment, avant d'aborder QISKit)</center>\n",
    "\n",
    "### <span style=\"color:blue\"><em>Jean-Michel Torres, IBM Q Hub France, torresjm@fr.ibm.com</em></span>\n",
    "\n",
    "***Star***, download : \n",
    "\n",
    "# https://github.com/jmit34/20191203\n",
    "\n",
    "### Contenu :\n",
    "<ol>\n",
    "    <li>Circuits</li>\n",
    "    <br>\n",
    "    <li>Calculs</li>\n",
    "        <ul>\n",
    "            <li>HXH</li>\n",
    "            <li>Racine de X</li>\n",
    "        </ul>\n",
    "    <br>\n",
    "    <li>Manipulations</li>\n",
    "        <ul>\n",
    "            <li>HCnH</li>\n",
    "        </ul>\n",
    "    <br>\n",
    "    <li>Matrices avec Python</li>\n",
    "        <ul>\n",
    "            <li>Matrices de Pauli</li>\n",
    "            <li>HXH</li>\n",
    "        </ul>    \n",
    "</ol>"
   ]
  },
  {
   "cell_type": "markdown",
   "metadata": {},
   "source": [
    "<div class=\"alert alert-block alert-success\">\n",
    "\n",
    "# 1. Circuits\n",
    "</div>"
   ]
  },
  {
   "cell_type": "markdown",
   "metadata": {},
   "source": [
    "Trouver un circuit sur 4 qubits a,b,c,d qui swappe b et c si a=0, et swappe c et d si a=1. a étant inchangé."
   ]
  },
  {
   "cell_type": "markdown",
   "metadata": {},
   "source": [
    "Trouver un circuit qui swappe c et D seulement si a=1 et b=1, on peut utiliser un qubit auxilliaire e. "
   ]
  },
  {
   "cell_type": "markdown",
   "metadata": {},
   "source": [
    "<div class=\"alert alert-block alert-success\">\n",
    "\n",
    "# 2. Calculs\n",
    "</div>"
   ]
  },
  {
   "cell_type": "markdown",
   "metadata": {},
   "source": [
    "\"A la main\" : HXH avec le produit des matrices et avec H = X+Z"
   ]
  },
  {
   "cell_type": "markdown",
   "metadata": {},
   "source": [
    "\"A la main : racine(X)\""
   ]
  },
  {
   "cell_type": "markdown",
   "metadata": {},
   "source": [
    "<div class=\"alert alert-block alert-success\">\n",
    "\n",
    "# 3. Manipulations avec HCnH\n",
    "</div>"
   ]
  },
  {
   "cell_type": "markdown",
   "metadata": {},
   "source": [
    "Ces deux circuits sont-il équivalents ? \n",
    "\n",
    "<img src=\"./images/HCnH.png\" alt=\"Note: In order for images to show up in this jupyter notebook you need to select File => Trusted Notebook\" width=\"400 px\" align=\"center\">"
   ]
  },
  {
   "cell_type": "markdown",
   "metadata": {},
   "source": [
    "<div class=\"alert alert-block alert-success\">\n",
    "\n",
    "# 4. Matrices avec Python\n",
    "</div>"
   ]
  },
  {
   "cell_type": "markdown",
   "metadata": {},
   "source": [
    "<div class=\"alert alert-block alert-success\">\n",
    "\n",
    "## 4.1. Produit de matrices\n",
    "</div>"
   ]
  },
  {
   "cell_type": "markdown",
   "metadata": {},
   "source": [
    "Manipulations de vecteurs et matrices 2x2:\n",
    "\n",
    "\\begin{equation}\n",
    "A = \n",
    "\\left(\n",
    "\\begin{array}{cc}\n",
    " 2 & 3  \\\\\n",
    " 3 & 5  \\\\\n",
    "\\end{array}\n",
    "\\right)\n",
    "\\hspace{1cm}\n",
    "and\n",
    "\\hspace{1cm}\n",
    "B = \n",
    "\\left(\n",
    "\\begin{array}{cc}\n",
    " 1 & 2  \\\\\n",
    " 5 & -1  \\\\\n",
    "\\end{array}\n",
    "\\right)\n",
    "\\hspace{1cm}\n",
    "\\end{equation}\n",
    "\n",
    "results in : \n",
    "\n",
    "\\begin{equation}\n",
    "A B  = \n",
    "\\left(\n",
    "\\begin{array}{cc}\n",
    " 17 & 1  \\\\\n",
    " 28 & 1  \\\\\n",
    "\\end{array}\n",
    "\\right)\n",
    "\\end{equation}\n",
    "\n",
    "Faites le calcul et vérifier que la multiplication des matrices n'est pas communtative.\n"
   ]
  },
  {
   "cell_type": "code",
   "execution_count": null,
   "metadata": {},
   "outputs": [],
   "source": [
    "import numpy as np\n",
    "A = np.matrix( ((2,3), (3, 5)) )\n",
    "B = np.matrix( ((1,2), (5, -1)) )\n",
    "C = np.matmul(A,B)\n",
    "print(C)\n",
    "# vérifier que AB n'est pas égal à BA. \n",
    "\n",
    "\n",
    "# vous pouvez essayer les calculs suivants: \n",
    "# print(np.add(A,B))\n",
    "# print(2*A)\n",
    "# print(np.trace(A))\n",
    "# A_inv = np.linalg.inv(A)\n",
    "# print(A_inv)\n",
    "# print(np.matmul(A,A_inv))\n",
    "# print(np.trace(A_inv))"
   ]
  },
  {
   "cell_type": "markdown",
   "metadata": {},
   "source": [
    "<div class=\"alert alert-block alert-success\">\n",
    "\n",
    "## 4.2. Matrices de Pauli\n",
    "</div>"
   ]
  },
  {
   "cell_type": "code",
   "execution_count": null,
   "metadata": {},
   "outputs": [],
   "source": [
    "ket0 = np.transpose(np.matrix((1,0)))\n",
    "ket1 = np.transpose(np.matrix((0,1)))\n",
    "print(\"|0⟩ = \")\n",
    "print(ket0)\n",
    "print(\"|1⟩ = \")\n",
    "print(ket1)"
   ]
  },
  {
   "cell_type": "markdown",
   "metadata": {},
   "source": [
    "Manipulations de vecteurs et matrices 2X2\n",
    "\n",
    "\\begin{equation}\n",
    "|0⟩ = \n",
    "\\left(\n",
    "\\begin{array}{cc}\n",
    " 1 \\\\\n",
    " 0 \\\\\n",
    "\\end{array}\n",
    "\\right)\n",
    "\\hspace{1cm}\n",
    "|1⟩ = \n",
    "\\left(\n",
    "\\begin{array}{cc}\n",
    " 0 \\\\\n",
    " 1 \\\\\n",
    "\\end{array}\n",
    "\\right)\n",
    "\\hspace{1cm}\n",
    "\\end{equation}\n",
    "\n",
    "Then I (Identity) and H (Hadamard) operators: \n",
    "\n",
    "\n",
    "\\begin{equation}\n",
    "I = \n",
    "\\left(\n",
    "\\begin{array}{cc}\n",
    " 1 & 0 \\\\\n",
    " 0 & 1 \\\\\n",
    "\\end{array}\n",
    "\\right)\n",
    "\\hspace{1cm}\n",
    "H = \\frac{1}{\\sqrt{2}}\n",
    "\\left(\n",
    "\\begin{array}{cc}\n",
    " 1 & 1  \\\\\n",
    " 1 & -1  \\\\\n",
    "\\end{array}\n",
    "\\right)\n",
    "\\hspace{1cm}\n",
    "\\end{equation}\n",
    "\n"
   ]
  },
  {
   "cell_type": "code",
   "execution_count": null,
   "metadata": {},
   "outputs": [],
   "source": [
    "from math import sqrt\n",
    "I = np.matrix(((1,0),(0,1)))\n",
    "H = np.matrix(((1,1),(1,-1)))*(1/sqrt(2))\n",
    "print(I,\"\\n\")\n",
    "\n",
    "print(H)"
   ]
  },
  {
   "cell_type": "code",
   "execution_count": null,
   "metadata": {},
   "outputs": [],
   "source": [
    "# trivial cases : I does not modify anything\n",
    "Iket0 = np.matmul(I,ket0)\n",
    "print(Iket0)\n",
    "Iket1 = np.matmul(I,ket1)\n",
    "print(Iket1)"
   ]
  },
  {
   "cell_type": "code",
   "execution_count": null,
   "metadata": {},
   "outputs": [],
   "source": [
    "# Hadamard \"superposition\"\n",
    "Hket0 = np.matmul(H,ket0)\n",
    "print(Hket0)\n",
    "Hket1 = np.matmul(H,ket1)\n",
    "print(Hket1)"
   ]
  },
  {
   "cell_type": "markdown",
   "metadata": {},
   "source": [
    "Comme ci dessus, pour la matrice Y  \n",
    "\n",
    "\\begin{equation}\n",
    "Y = \n",
    "\\left(\n",
    "\\begin{array}{cc}\n",
    " 0 & -i \\\\\n",
    " i & 0 \\\\\n",
    "\\end{array}\n",
    "\\right)\n",
    "\\hspace{1cm}\n",
    "\\end{equation}\n",
    "\n",
    "A vous de jouer: "
   ]
  },
  {
   "cell_type": "code",
   "execution_count": null,
   "metadata": {},
   "outputs": [],
   "source": [
    "# Y, y|1>, Y|0>\n",
    "\n",
    "\n"
   ]
  },
  {
   "cell_type": "markdown",
   "metadata": {},
   "source": [
    "#### Try it.\n",
    "\n",
    "Matrices multiplying: \n",
    "\n",
    "\\begin{equation}\n",
    "X = \n",
    "\\left(\n",
    "\\begin{array}{cc}\n",
    " 0 & 1  \\\\\n",
    " 1 & 0  \\\\\n",
    "\\end{array}\n",
    "\\right)\n",
    "\\hspace{0.5cm}\n",
    "Y = \n",
    "\\left(\n",
    "\\begin{array}{cc}\n",
    " 0 & -i  \\\\\n",
    " i & \\phantom{-}0  \\\\\n",
    "\\end{array}\n",
    "\\right)\n",
    "\\hspace{0.5cm}\n",
    "Z = \n",
    "\\left(\n",
    "\\begin{array}{cc}\n",
    " 1 & \\phantom{-}0  \\\\\n",
    " 0 & -1  \\\\\n",
    "\\end{array}\n",
    "\\right)\n",
    "\\hspace{0.5cm}\n",
    "S = \n",
    "\\left(\n",
    "\\begin{array}{cc}\n",
    " 1 & 0  \\\\\n",
    " 0 & i  \\\\\n",
    "\\end{array}\n",
    "\\right)\n",
    "\\hspace{0.5cm}\n",
    "T = \n",
    "\\left(\n",
    "\\begin{array}{cc}\n",
    " 1 & 0  \\\\\n",
    " 0 & e^{i\\pi/4} \\\\\n",
    "\\end{array}\n",
    "\\right)\n",
    "\\hspace{0.5cm}\n",
    "\\end{equation}\n",
    "\n",
    "\n",
    "Définir les matrices $\\ H, X, Y, Z, S, T $ et vérifier que : \n",
    "\n",
    "\\begin{equation}\n",
    "\\ XY = iZ,\n",
    "\\hspace{0.5cm}\n",
    "\\ ZX= iY,\n",
    "\\hspace{0.5cm}\n",
    "\\ YZ= iX \n",
    "\\end{equation}\n",
    "\n",
    "\\begin{equation}\n",
    "\\ XY = -YZ,\n",
    "\\hspace{0.5cm}\n",
    "\\ XZ = -ZX,\n",
    "\\hspace{0.5cm}\n",
    "\\ YZ= -ZY \n",
    "\\end{equation}\n",
    "\n",
    "\\begin{equation}\n",
    "\\ T^2 = S,\n",
    "\\hspace{0.5cm}\n",
    "\\ S^2 = Z,\n",
    "\\hspace{0.5cm}\n",
    "\\ X^2 = Y^2 = Z^2 = I,\n",
    "\\hspace{0.5cm}\n",
    "\\ \n",
    "\\end{equation}"
   ]
  },
  {
   "cell_type": "markdown",
   "metadata": {},
   "source": [
    "définir les matrices S, Z, T avec numpy, vérifier les égalités ci-dessus"
   ]
  },
  {
   "cell_type": "markdown",
   "metadata": {},
   "source": [
    "<div class=\"alert alert-block alert-success\">\n",
    "    \n",
    "## 4.3. HXH\n",
    "</div>"
   ]
  },
  {
   "cell_type": "code",
   "execution_count": null,
   "metadata": {},
   "outputs": [],
   "source": []
  }
 ],
 "metadata": {
  "kernelspec": {
   "display_name": "Python 3",
   "language": "python",
   "name": "python3"
  },
  "language_info": {
   "codemirror_mode": {
    "name": "ipython",
    "version": 3
   },
   "file_extension": ".py",
   "mimetype": "text/x-python",
   "name": "python",
   "nbconvert_exporter": "python",
   "pygments_lexer": "ipython3",
   "version": "3.7.3"
  }
 },
 "nbformat": 4,
 "nbformat_minor": 2
}
