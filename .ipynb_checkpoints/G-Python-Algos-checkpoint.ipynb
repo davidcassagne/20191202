{
 "cells": [
  {
   "cell_type": "markdown",
   "metadata": {},
   "source": [
    "<table>\n",
    "   <tr>\n",
    "     <td><img src=\"./images/logo-CINES.png\" alt=\"Note: In order for images to show up in this jupyter notebook you need to select File => Trusted Notebook\" width=\"400 px\" align=\"left\"></td>\n",
    "    <td>  </td>\n",
    "    <td><img src=\"./images/logo-IBM.png\" alt=\"Note: In order for images to show up in this jupyter notebook you need to select File => Trusted Notebook\" width=\"400 px\" align=\"left\"></td>\n",
    "   </tr>\n",
    "</table>\n",
    "\n",
    "# Algorithmes : un bon algo c'est important, mais ce n'est pas facile à inventer (en classique aussi) \n",
    "\n",
    "Jean-Michel Torres 2019-12-02/04, IBM Q Hub France\n",
    "\n",
    "Star & Download from: https://github.com/jmit34/20191202\n"
   ]
  },
  {
   "cell_type": "markdown",
   "metadata": {},
   "source": [
    "# 0. Hommages historiques\n",
    "\n",
    "## 1. Le problème \n",
    "\n",
    "Les Neuf Chapitres sur l'art mathématique (九章算術 ou 九章算术 ou Jiǔzhāng Suànshù) est un livre anonyme chinois de mathématiques, compilé entre le IIe siècle av. J.-C. et le Ier siècle av. J.-C. au début de la période Han sur la base de morceaux datant d'avant la dynastie Qin (source Wikipedia).\n",
    "\n",
    "<img src=\"./images/neuf-chapitres.gif\" alt=\"Note: In order for images to show up in this jupyter notebook you need to select File => Trusted Notebook\" width=\"400 px\" align=\"center\">\n",
    "\n",
    "*Une ville carrée de dimension inconnue comprend une porte au milieu de chaque côté.*\n",
    "\n",
    "**A l’extérieur de la ville, vingt pas après la sortie Nord, se trouve un arbre.\n",
    "Si tu quittes la ville par la porte Sud, marche quatorze pas vers le Sud puis 1775 vers\n",
    "l’Ouest et tu commenceras tout juste à apercevoir l’arbre.\n",
    "On cherche les dimensions de la ville**\n",
    "\n",
    "source : https://www.ac-strasbourg.fr/fileadmin/pedagogie/mathematiques/TICE/Activites/la_ville_carree.pdf\n",
    "\n",
    "## 2. La méthode \n",
    "\n",
    "\n",
    "<img src=\"./images/al-khwarizmi.jpg\" alt=\"Note: In order for images to show up in this jupyter notebook you need to select File => Trusted Notebook\" width=\"600 px\" align=\"center\">\n",
    "\n",
    "**Muhammad Ibn Mūsā al-Khuwārizmī (arabe: محمد بن موسى الخوارزمي), généralement appelé Al-Khwarizmi (latinisé en Algoritmi ou Algorizmi), né dans les années 780, probablement à Khiva dans la région du Khwarezm (d'où il prend son nom), dans l'actuel Ouzbékistann, mort vers 850 à Bagdad, est un mathématicien, géographe, astrologue et astronome perse, membre de la Maison de la sagesse de Bagdad. Ses écrits, rédigés en langue arabe, puis traduits en latin à partir du xiie siècle, ont permis l'introduction de l'algèbre en Europe. Sa vie s'est déroulée en totalité à l'époque de la dynastie abbasside.**\n",
    "\n",
    "**Son nom latinisé est à l’origine du mot algorithme et le titre de l'un de ses ouvrages (Abrégé du calcul par la restauration et la comparaison) est à l'origine du mot algèbre. L'utilisation des chiffres arabes et leur diffusion dans le Moyen-Orient et en Europe sont dues à un autre de ses livres nommé Traité du système de numération des Indiens qui fut diffusé via la langue arabe dans tout l'empire abbasside. Al-Khawarizmi a classifié les algorithmes existants, en particulier selon leurs critères de terminaison, mais ne revendique pas leur invention : l'algorithme le plus connu du monde est celui d'Euclide, au programme d'enseignement de tous les pays, et les premiers algorithmes connus le furent, sans surprise, dans un pays devant gérer des calculs élaborés de l'impôt : à Babylone** \n",
    "\n",
    "source: https://fr.wikipedia.org/wiki/Al-Khw%C3%A2rizm%C3%AE\n",
    "\n",
    "Al-Khwarizmi catégorise les équations de cette façon: \n",
    "\n",
    "\n",
    "| catégorie     | exemple (notation actuelle)  |\n",
    "| ----------- | -------------  \n",
    "|le carré est égal aux racines  | $x^2 = 7x$ | \n",
    "|le carré est égal au nombre | $x^2 = 4$ |\n",
    "|les racines sont égales au nombre| $5x = 15$  | \n",
    "|le carré plus les racines sont égaux au nombre| $x^2 + 10x = 39$  | \n",
    "|le carré plus un nombre sont égaux aux racines | $x^2 + 45 = 3x$  | \n",
    "|les racines plus un nombre sont égales au carré | $5x + 38 = x^2$  | \n",
    "\n",
    "Pour la quatrième catégorie, par exemple, la méthode de résolution proposée par Al-Khwarizmi est la suivante : \n",
    "\n",
    "\n",
    "Prenons l'équation: \n",
    "\n",
    "\\begin{equation}\n",
    "x^2 + 10x = 39\n",
    "\\end{equation}\n",
    "\n",
    "**Prends la moitié des racines (ici 5, moitié de 10)**\n",
    "\n",
    "**Multiplie ce résultat par lui même (ce qui donne 25)**\n",
    "\n",
    "**Ajoute le résultat au nombre (25+39 = 64)**\n",
    "\n",
    "**Prends la racine de ce résultat (dans ce cas : 8)**\n",
    "\n",
    "**Soustrais-en la moitié des racines (8 - 5 = 3)**\n",
    "\n",
    "\n",
    "Al-Kw-hwarizmi la justifie géométriquement comme suit : \n",
    "\n",
    "\n",
    "En supposant que x est positif, on trace un carré de coté x, et on juxtapose sur deux cotés adjacents un retangle de cotés x et la \"moitié des racines\" (ici $10/2 = 5$)  \n",
    "\n",
    "\n",
    "   \n",
    "<img src=\"./images/Al-K-recette-geo.png\" alt=\"Note: In order for images to show up in this jupyter notebook you need to select File => Trusted Notebook\" width=\"800 px\" align=\"center\">\n",
    "\n",
    "source: Tangente Bibliothèque n°30 les mathématiques de l'antiquité à l'an mille. "
   ]
  },
  {
   "cell_type": "code",
   "execution_count": null,
   "metadata": {
    "scrolled": true
   },
   "outputs": [],
   "source": [
    "from math import sqrt\n",
    "# ici écrire le programme qui permet de trouver le côté de la ville dans le problème issu dees Neufs Chapitres. \n",
    "\n",
    "\n",
    "\n"
   ]
  },
  {
   "cell_type": "markdown",
   "metadata": {},
   "source": [
    "voir un premier indice en executant la cellule suivante"
   ]
  },
  {
   "cell_type": "code",
   "execution_count": null,
   "metadata": {},
   "outputs": [],
   "source": [
    "from IPython.display import Image, display\n",
    "filename = './images/9chap-alk-sol1.png'\n",
    "display(Image(filename=filename, width=600))"
   ]
  },
  {
   "cell_type": "markdown",
   "metadata": {},
   "source": [
    "voir un second indice en executant la cellule suivante"
   ]
  },
  {
   "cell_type": "code",
   "execution_count": null,
   "metadata": {},
   "outputs": [],
   "source": [
    "from IPython.display import Image, display\n",
    "filename = './images/9chap-alk-sol2.png'\n",
    "display(Image(filename=filename, width=600))"
   ]
  },
  {
   "cell_type": "markdown",
   "metadata": {},
   "source": [
    "voir une solution: "
   ]
  },
  {
   "cell_type": "code",
   "execution_count": null,
   "metadata": {},
   "outputs": [],
   "source": [
    "import neuf_chapitres_solution\n",
    "print(neuf_chapitres_solution.texte)"
   ]
  },
  {
   "cell_type": "markdown",
   "metadata": {},
   "source": [
    "## C.1  Sorting : example of algorithm performance\n",
    "\n",
    "##### Deep dive into an example : sorting data. \n",
    "\n",
    "<ul><li>a. Let's build a small duration mesurement and plotting tool</li>\n",
    "    <li>b. Try a naive sort algorithm and try to determine computational complexity.</li> \n",
    "    <li>c. Then use the QUICKSORT algorithm.</li>\n",
    "    <li>d. How does pyton sort() compares ?</li>\n",
    "</ul>\n"
   ]
  },
  {
   "cell_type": "markdown",
   "metadata": {},
   "source": [
    "a. Duration plotting tool"
   ]
  },
  {
   "cell_type": "code",
   "execution_count": null,
   "metadata": {},
   "outputs": [],
   "source": [
    "import matplotlib.pyplot as plt\n",
    "\n",
    "# this will be our array of problem size\n",
    "x = [1,2,3,4,5,10,20]\n",
    "\n",
    "# this will be the run duration\n",
    "y = [1,4,9,16,25,100,400]\n",
    "\n",
    "plt.plot(x,y,color=\"blue\")\n",
    "\n",
    "print(\"this is what a O(n2) algorithm would result in\")"
   ]
  },
  {
   "cell_type": "markdown",
   "metadata": {},
   "source": [
    "b. Now lets build a naive sorting algo: \"bubble sort\""
   ]
  },
  {
   "cell_type": "code",
   "execution_count": null,
   "metadata": {},
   "outputs": [],
   "source": [
    "import random\n",
    "\n",
    "# define a swap function : input : array, index1, index2, \n",
    "# returns array with values at index1 and index2 swapped\n",
    "\n",
    "\n",
    "# define n : the size of your array\n",
    "n = 100\n",
    "# define an array of n random numbers\n",
    "arr = [int(random.random()*1000 + 0.5) for i in range(n)]\n",
    "print(arr)\n",
    "\n",
    "# run n time through the array, and if the next item value is smaller than the \n",
    "# current item value : swap those items in the array. (ascending sort)\n",
    "\n"
   ]
  },
  {
   "cell_type": "markdown",
   "metadata": {},
   "source": [
    "## What is the O() for this sorting algorithm ?\n",
    "\n"
   ]
  },
  {
   "cell_type": "markdown",
   "metadata": {},
   "source": [
    "Reuse the bubble sort algo, implementing an exectution timer: \n",
    "Use time() function in time library to determine starting time (after the array is loaded) and ending time (after sort is done)."
   ]
  },
  {
   "cell_type": "code",
   "execution_count": null,
   "metadata": {},
   "outputs": [],
   "source": [
    "import random\n",
    "import time\n",
    "\n",
    "## Swap\n",
    "\n",
    "n= 2000\n",
    "arr = [random.random() for i in range(n)]\n",
    "start_time = time.time()\n",
    "\n",
    "## sort\n",
    "\n",
    "end_time = time.time()\n",
    "\n",
    "duration = end_time - start_time\n",
    "print(f\"sorting an array of {n} numbers done in {duration:.2f} seconds\")"
   ]
  },
  {
   "cell_type": "markdown",
   "metadata": {},
   "source": [
    "Now build the function that inputs a size and returns the execution time for the bubble-sort. "
   ]
  },
  {
   "cell_type": "code",
   "execution_count": null,
   "metadata": {},
   "outputs": [],
   "source": [
    "import random\n",
    "import time\n",
    "\n",
    "def swap(arr,i1,i2):\n",
    "    t = arr[i1]\n",
    "    arr[i1] = arr[i2]\n",
    "    arr[i2] = t\n",
    "\n",
    "def get_bubble_sort_time(n):\n",
    "    arr = [random.random() for i in range(n)]\n",
    "    start_time = time.time()\n",
    "\n",
    "    for i in range(n):\n",
    "        for j in range(n-1):\n",
    "            if arr[j+1] < arr[j]:\n",
    "                swap(arr,j+1,j)\n",
    "    end_time = time.time()\n",
    "    return  end_time - start_time\n",
    "\n",
    "print(get_bubble_sort_time(3000))"
   ]
  },
  {
   "cell_type": "markdown",
   "metadata": {},
   "source": [
    "Call this function from a list of sizes, build a list of durations, plot"
   ]
  },
  {
   "cell_type": "code",
   "execution_count": null,
   "metadata": {},
   "outputs": [],
   "source": [
    "import random\n",
    "import time\n",
    "import matplotlib.pyplot as plt\n",
    "\n",
    "def swap(arr,i1,i2):\n",
    "    t = arr[i1]\n",
    "    arr[i1] = arr[i2]\n",
    "    arr[i2] = t\n",
    "\n",
    "def get_bubble_sort_time(n):\n",
    "    arr = [random.random() for i in range(n)]\n",
    "    start_time = time.time()\n",
    "    for i in range(n):\n",
    "        for j in range(n-1):\n",
    "            if arr[j+1] < arr[j]:\n",
    "                swap(arr,j+1,j)\n",
    "    end_time = time.time()\n",
    "    return  end_time - start_time\n",
    "\n",
    "times = []\n",
    "sizes = [500,1000,2000,3000,4000,5000,6000,7000,8000]\n",
    "for n in sizes: \n",
    "    times.append(get_bubble_sort_time(n))\n",
    "\n",
    "plt.plot(sizes,times,color=\"blue\")"
   ]
  },
  {
   "cell_type": "markdown",
   "metadata": {},
   "source": [
    "c. Now to the QUICKSORT (ref. Youtube/\"The Coding Train\" April 4 2019)\n",
    "\n",
    "Quicksort was described by Tony Hoare in 1961. It is a recursive algorithm: \n",
    "<ol>\n",
    "    <li>The recursive function applies to one part of the array to be sorted.</li>\n",
    "    <li>First call is on the whole array (from index 0 to array length)</li>\n",
    "    <li>the function has inputs: array, and 2 indexes (smaller or equal to array length)</li>\n",
    "    <li> while the 2 indexes are not equal, the function calculates a \"pivot_index\" and will then call itself twice : once for the sub-array at the left of the pivotindenx, and once for the subarray at the right</li>\n",
    "    <li> to calculate a pivotindex on the array (or a subarray):<ul>\n",
    "    <li> we move to the left part all values lower than pivotvalue (value of the last item (arbitrary choice to choose the last item) and leave the values greater the pivotvalue to it's right</li></ul>\n",
    "    </li></ol>"
   ]
  },
  {
   "cell_type": "code",
   "execution_count": null,
   "metadata": {},
   "outputs": [],
   "source": [
    "import random\n",
    "\n",
    "def swap(arr,i,j):\n",
    "    ### swaps i and j values in array a\n",
    "    t = arr[i]\n",
    "    arr[i] = arr[j]\n",
    "    arr[j] = t \n",
    "    \n",
    "def quicksort(arr, start, end):\n",
    "    if start >= end:\n",
    "        # done\n",
    "        return\n",
    "    # calculate pivot index with the partition function\n",
    "    index = partition(arr, start, end)\n",
    "    # call quicksort for both sides of the pivot index. \n",
    "    # left part\n",
    "    quicksort(arr,start,index - 1)\n",
    "    # right part\n",
    "    quicksort(arr,index + 1, end)\n",
    "\n",
    "def partition(arr,s,e):\n",
    "    # initialize pivot index to the left\n",
    "    pivotindex = s\n",
    "    # initialize pivot value to the value of the rightmost element\n",
    "    pivotvalue = arr[e]\n",
    "    # for all elements if their value is lower than pivot value\n",
    "    # put the value to the current pivotindex (left at beginning, and increment pivotindex)\n",
    "    # when this is done put the pivotvalue at the pivotindex position\n",
    "    # return that position so we can have the next iteration on left \n",
    "    # and right parts relative to the pivotindex. \n",
    "    for i in range (s,e):\n",
    "        if arr[i] < pivotvalue:\n",
    "            swap(arr,i,pivotindex)\n",
    "            pivotindex +=1\n",
    "    swap(arr,pivotindex,e)\n",
    "    return pivotindex\n",
    "\n",
    "size = 500_000\n",
    "arr = [random.random() for i in range(size)]\n",
    "size = len(arr)\n",
    "start_time = time.time()\n",
    "\n",
    "quicksort(arr, 0, size-1 )\n",
    "\n",
    "\n",
    "end_time = time.time()\n",
    "duration = end_time - start_time\n",
    "\n",
    "print(f\"Total execution time: {duration:.1f} seconds\")"
   ]
  },
  {
   "cell_type": "markdown",
   "metadata": {},
   "source": [
    "call the quicksort with a list of sizes, build a list of durations, plot"
   ]
  },
  {
   "cell_type": "code",
   "execution_count": null,
   "metadata": {},
   "outputs": [],
   "source": [
    "import random\n",
    "import time\n",
    "import matplotlib.pyplot as plt\n",
    "\n",
    "def swap(arr,i,j):\n",
    "    ### swaps i and j values in array a\n",
    "    t = arr[i]\n",
    "    arr[i] = arr[j]\n",
    "    arr[j] = t \n",
    "    \n",
    "def quicksort(arr, start, end):\n",
    "    if start >= end:\n",
    "        # done\n",
    "        return\n",
    "    # calculate pivot index with the partition function\n",
    "    index = partition(arr, start, end)\n",
    "    # call quicksort for both sides of the pivot index. \n",
    "    # left part\n",
    "    quicksort(arr,start,index - 1)\n",
    "    # right part\n",
    "    quicksort(arr,index + 1, end)\n",
    "\n",
    "def partition(arr,s,e):\n",
    "    # initialize pivot index to the left\n",
    "    pivotindex = s\n",
    "    # initialize pivot value to the value of the rightmost element\n",
    "    pivotvalue = arr[e]\n",
    "    # for all elements if their value is lower than pivot value\n",
    "    # put the value to the current pivotindex (left at beginning, and increment pivotindex)\n",
    "    # when this is done put the pivotvalue at the pivotindex position\n",
    "    # return that position so we can have the next iteration on left \n",
    "    # and right parts relative to the pivotindex. \n",
    "    for i in range (s,e):\n",
    "        if arr[i] < pivotvalue:\n",
    "            swap(arr,i,pivotindex)\n",
    "            pivotindex +=1\n",
    "    swap(arr,pivotindex,e)\n",
    "    return pivotindex\n",
    "\n",
    "def get_quicksort_time(n):\n",
    "    arr = [random.random() for i in range(n)]\n",
    "    start_time = time.time()\n",
    "    quicksort(arr,0,n-1)\n",
    "    end_time = time.time()\n",
    "    return  end_time - start_time\n",
    "\n",
    "times = []\n",
    "sizes = [50000,100000,200000,300000,400000,500000,600000,700000]\n",
    "for n in sizes:\n",
    "    times.append(get_quicksort_time(n))\n",
    "\n",
    "print(times)\n",
    "plt.plot(sizes,times,color=\"blue\")"
   ]
  },
  {
   "cell_type": "markdown",
   "metadata": {},
   "source": [
    "Finally, see what the Python included sort() function does "
   ]
  },
  {
   "cell_type": "code",
   "execution_count": null,
   "metadata": {},
   "outputs": [],
   "source": [
    "import random\n",
    "import time\n",
    "import matplotlib.pyplot as plt\n",
    "\n",
    "def get_python_sort_time(n):\n",
    "    arr = [random.random() for i in range(n)]\n",
    "    start_time = time.time()\n",
    "    arr.sort()\n",
    "    end_time = time.time()\n",
    "    return  end_time - start_time\n",
    "\n",
    "times = []\n",
    "sizes = [50000,100000,200000,300000,400000,500000,600000,700000]\n",
    "for n in sizes: \n",
    "    times.append(get_quicksort_time(n))\n",
    "\n",
    "print(times)\n",
    "plt.plot(sizes,times,color=\"blue\")"
   ]
  },
  {
   "cell_type": "markdown",
   "metadata": {},
   "source": [
    "## C-2 Decimals of $\\pi$"
   ]
  },
  {
   "cell_type": "markdown",
   "metadata": {},
   "source": [
    "## C-2.1 Decimals of $\\pi$ with Monte-Carlo simulation"
   ]
  },
  {
   "cell_type": "code",
   "execution_count": null,
   "metadata": {},
   "outputs": [],
   "source": [
    "import time\n",
    "from random import random\n",
    "start_time = time.time()\n",
    "\n",
    "#---> calculation starts here\n",
    "iterations = 5_000_000                  # change this for accuracy vs duration \n",
    "hit = 0                                 # counter of random hits with module < 1 \n",
    "for i in range(iterations):\n",
    "    if random()**2 + random()**2 < 1:   # random(a,b) returns a pseudo random float\n",
    "        hit += 1                        # between a & b. Default : between 0 and 1 \n",
    "#---> calulation ends here\n",
    "\n",
    "end_time = time.time()\n",
    "duration = end_time - start_time\n",
    "\n",
    "print(f\"Total execution time: {duration:.1f} seconds\")\n",
    "print(f\"estimation of PI = {4 * hit / iterations}\")"
   ]
  },
  {
   "cell_type": "markdown",
   "metadata": {},
   "source": [
    "## C-2.2 Decimals of $\\pi$ with better maths"
   ]
  },
  {
   "cell_type": "markdown",
   "metadata": {},
   "source": [
    "### C-2.2.1 Viète formula 1593 (after [François Viète](https://en.wikipedia.org/wiki/Fran%C3%A7ois_Vi%C3%A8te), 1540-1603):\n",
    "\n",
    "\\begin{equation}\n",
    "\\pi = 2\\times\\frac{2}{\\sqrt{2}} \\times \\frac{2}{\\sqrt{2 + \\sqrt{2}}} \\times \\frac{2}{\\sqrt{2 + \\sqrt{2 + \\sqrt{2}}}}  \\times ... \\times \\frac{2}{\\sqrt{2+\\sqrt{2+\\sqrt{2+\\sqrt{2 + ...}}}}}\n",
    "\\end{equation}"
   ]
  },
  {
   "cell_type": "code",
   "execution_count": null,
   "metadata": {},
   "outputs": [],
   "source": [
    "\n",
    "\n",
    "\n"
   ]
  },
  {
   "cell_type": "markdown",
   "metadata": {},
   "source": [
    "### C-2.2.2 Wallis formula 1656 (after [John Wallis](https://en.wikipedia.org/wiki/John_Wallis), 1616-1703)\n",
    "\n",
    "\\begin{equation}\n",
    "{\\displaystyle {\\pi }=2 \\times \\prod _{n=1}^{\\infty }{\\frac {4n^{2}}{4n^{2}-1}}}\n",
    "\\end{equation}"
   ]
  },
  {
   "cell_type": "code",
   "execution_count": null,
   "metadata": {},
   "outputs": [],
   "source": [
    "\n",
    "\n",
    "\n",
    "\n"
   ]
  },
  {
   "cell_type": "markdown",
   "metadata": {},
   "source": [
    "## C-2.2.3 Using Euler formula and Huffini-Horner to calculate decimals of $\\pi$\n",
    "\n",
    "### Part I: From Euler development of Arctan\n",
    "\\begin{equation}\n",
    "\\forall x\\in [-1,1] \\quad \\arctan(x)=\\sum _{n=0}^{\\infty }{\\frac {2^{2n}(n!)^{2}}{(2n+1)!}}{\\frac {x^{2n+1}}{(1+x^{2})^{n+1}}}\n",
    "\\end{equation}\n",
    "\n",
    "\n",
    "With $ \\frac{\\pi}{4} = \\arctan(1)$, we can plug x=1 in the Euler development : \n",
    "\n",
    "\\begin{equation}\n",
    "\\frac{\\pi}{4} = \\sum _{n=0}^{\\infty }{\\frac {2^{2n}(n!)^{2}}{(2n+1)!}}{\\frac {1^{2n+1}}{(1+1^{2})^{n+1}}}\n",
    "\\end{equation}\n",
    "\n",
    "With $1+1^2=1$ and $1^k = 1$, we can also reduce de power of 2 up and down to get: \n",
    "\n",
    "\\begin{equation}\n",
    "\\frac{\\pi}{4} = \\sum _{n=0}^{\\infty }{\\frac {2^{2n}(n!)^{2}}{(2n+1)!}}{\\frac {1}{2^{n+1}}} = \\frac{1}{2}\\sum _{n=0}^{\\infty }{\\frac {2^n(n!)^{2}}{(2n+1)!}}\n",
    "\\end{equation}\n",
    "\n",
    "Multiply left and right by 4, and moving out the term for n=0 :\n",
    "\n",
    "\\begin{equation}\n",
    "\\pi = 2\\sum _{n=0}^{\\infty }{\\frac {2^n(n!)^{2}}{(2n+1)!}} = 2 + 2 \\sum _{n=1}^{\\infty }{\\frac {2^n(n!)^{2}}{(2n+1)!}}\n",
    "\\end{equation}\n",
    "\n",
    "\n",
    "note that: \n",
    "\n",
    "\\begin{equation}\n",
    "\\frac{2^n(n!)^2}{(2n+1)!} = \\frac{n!\\times (2^n \\times n!)}{(2n+1)!} = n!\\times\\frac{(2\\times1)\\times(2\\times2)\\times(2\\times3)\\times(2\\times4)\\times(2\\times5)\\times ... \\times(2\\times n)}{1\\times2\\times3\\times4\\times5 ... \\times(2n+1)}\n",
    "\\end{equation}\n",
    "\n",
    "which simplifies into : \n",
    "\n",
    "\\begin{equation}\n",
    "n!\\times\\frac{1}{1\\times3\\times5\\times7 ... \\times(2n+1)} = \\frac{1\\times2\\times3\\times4 ... \\times n}{1\\times3\\times5\\times7 ... \\times(2n+1)} \n",
    "\\end{equation}\n",
    "\n",
    "Now we have : \n",
    "\n",
    "\\begin{equation}\n",
    "\\pi = 2 + 2 \\sum _{n=1}^{\\infty }{\\frac{1\\times2\\times3\\times4 ... \\times n}{1\\times3\\times5\\times7 ... \\times(2n+1)} }\n",
    "\\end{equation}\n",
    "\n",
    "\n",
    "At this point we can calculate an estimation for $\\pi\\$ based on Euler's formula:"
   ]
  },
  {
   "cell_type": "code",
   "execution_count": null,
   "metadata": {},
   "outputs": [],
   "source": [
    "\n",
    "\n",
    "\n",
    "\n",
    "\n"
   ]
  },
  {
   "cell_type": "markdown",
   "metadata": {},
   "source": [
    "## Calcul des décimales de $\\pi$\n",
    "\n",
    "### Algorithme de Ruffini-Horner\n",
    "\n",
    "On a: \n",
    "\n",
    "\\begin{equation}\n",
    "\\pi = 2 + 2 \\sum _{n=1}^{\\infty }{\\frac{1\\times2\\times3\\times4 ... \\times n}{1\\times3\\times5\\times7 ... \\times(2n+1)} }\n",
    "\\end{equation}\n",
    "\n",
    " C'est à dire (en écrivant les termes de la sommation) : \n",
    "\n",
    "\n",
    "\\begin{equation}\n",
    "\\pi = 2 + 2\\frac{1}{3} + 2\\frac{2}{3\\times5} + 2\\frac{2\\times3}{3\\times5\\times7} + 2\\frac{2\\times3\\times4}{3\\times5\\times7\\times9} +  2\\frac{2\\times3\\times4 ... \\times n}{3\\times5\\times7\\times9 ... \\times(2n+1)}\n",
    "\\end{equation}\n",
    "\n",
    "Que l'on peut factoriser:  \n",
    "\n",
    "\\begin{equation}\n",
    "\\pi = 2 + \\frac{1}{3}\\bigl(2 + \\frac{2}{5}\\bigl(2 + \\frac{3}{7}\\bigl(  2 + \\frac{4}{9}\\bigl(2 + \\frac{5}{11}\\bigl(2+ ... + \\frac{n}{2n+1}(2) \\bigr)\\bigr)\\bigr)\\bigr)\\bigr)\n",
    "\\end{equation}\n",
    "\n",
    "\n",
    "Et donc : $\\pi$ peut être écrit $22222....22222$ dans la base à pas variable $\\big[1;\\frac{1}{3};\\frac{2}{5};\\frac{3}{7};\\frac{4}{9};....; \\frac{n}{2n+1}\\bigr];$\n"
   ]
  },
  {
   "cell_type": "code",
   "execution_count": null,
   "metadata": {},
   "outputs": [],
   "source": [
    "# Source : José Ouin - Algorithmique programmation par la pratique. Ed Ellipses\n",
    "entree = input(\"entrer le nombre de décimales de 𝝅 à calculer :\")\n",
    "decimales = int(entree)\n",
    "N = 4 * decimales \n",
    "\n",
    "DCMPI = [0] * (decimales+2)\n",
    "P = [0] * (N + 1)\n",
    "Q = [0] * (N + 1)\n",
    "RTN = [0] * (N + 1)\n",
    "SMM = [0] * (N + 1)\n",
    "RST = [2] * (N + 1)\n",
    "\n",
    "for i in range(1, N+1):\n",
    "    P[i] = i \n",
    "    \n",
    "Q[0] = 10\n",
    "\n",
    "for i in range(1,N+1):\n",
    "    Q[i] = 2*i + 1 \n",
    "    \n",
    "for j in range(0,decimales+2):\n",
    "    VINI = [10 * u for u in RST]\n",
    "    RTN[N] = 0\n",
    "    for k in range(N,-1,-1):\n",
    "        SMM[k] = VINI[k] + RTN[k]\n",
    "        RST[k] = SMM[k]%Q[k]\n",
    "        if k !=0:\n",
    "            RTN[k-1] = P[k]*(SMM[k] - RST[k])/Q[k]\n",
    "        else:\n",
    "            DCMPI[j] = (SMM[0]-RST[0])/Q[0]\n",
    "            if DCMPI[j] >= 10:\n",
    "                TMP = DCMPI[j]%10\n",
    "                DCMPI[j-1] = DCMPI[j-1] + (TMP - DCMPI[j])/10\n",
    "                \n",
    "DCMPI = [int(u) for u in DCMPI]\n",
    "DCMPI = DCMPI[:-1]\n",
    "print(\"Décimales de 𝝅:\",DCMPI)"
   ]
  }
 ],
 "metadata": {
  "kernelspec": {
   "display_name": "Python 3",
   "language": "python",
   "name": "python3"
  },
  "language_info": {
   "codemirror_mode": {
    "name": "ipython",
    "version": 3
   },
   "file_extension": ".py",
   "mimetype": "text/x-python",
   "name": "python",
   "nbconvert_exporter": "python",
   "pygments_lexer": "ipython3",
   "version": "3.7.3"
  }
 },
 "nbformat": 4,
 "nbformat_minor": 2
}
